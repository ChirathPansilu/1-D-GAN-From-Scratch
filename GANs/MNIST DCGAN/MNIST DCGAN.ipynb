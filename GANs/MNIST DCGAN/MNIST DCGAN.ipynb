{
 "cells": [
  {
   "cell_type": "code",
   "execution_count": 2,
   "metadata": {},
   "outputs": [],
   "source": [
    "#import libraries\n",
    "import torch\n",
    "import matplotlib.pyplot as plt\n",
    "from torchvision import datasets,transforms"
   ]
  },
  {
   "cell_type": "markdown",
   "metadata": {},
   "source": [
    "## Load in and Visualize Dataset"
   ]
  },
  {
   "cell_type": "code",
   "execution_count": 63,
   "metadata": {},
   "outputs": [],
   "source": [
    "#load data\n",
    "\n",
    "batch_size = 128\n",
    "\n",
    "dataset = datasets.MNIST('gan-mnist/data', train=True, transform=transforms.ToTensor())\n",
    "dataloader = torch.utils.data.DataLoader(dataset, batch_size, shuffle=True)"
   ]
  },
  {
   "cell_type": "code",
   "execution_count": 64,
   "metadata": {},
   "outputs": [],
   "source": [
    "data = iter(dataloader)\n",
    "images, labels = data.next()"
   ]
  },
  {
   "cell_type": "code",
   "execution_count": 69,
   "metadata": {},
   "outputs": [
    {
     "data": {
      "image/png": "[encoded data removed]",
      "text/plain": [
       "<Figure size 432x288 with 1 Axes>"
      ]
     },
     "metadata": {
      "needs_background": "light"
     },
     "output_type": "display_data"
    }
   ],
   "source": [
    "#display an instance\n",
    "plt.imshow(images[1].squeeze(), cmap='gray_r')\n",
    "plt.axis('off')\n",
    "plt.show()"
   ]
  },
  {
   "cell_type": "code",
   "execution_count": 70,
   "metadata": {},
   "outputs": [
    {
     "data": {
      "image/png": "[encoded data removed]",
      "text/plain": [
       "<Figure size 504x504 with 25 Axes>"
      ]
     },
     "metadata": {
      "needs_background": "light"
     },
     "output_type": "display_data"
    }
   ],
   "source": [
    "#display some examples from  dataset\n",
    "plt.figure(figsize=(7,7))\n",
    "for i in range(25):\n",
    "    plt.subplot(5,5,i+1)\n",
    "    plt.axis('off')\n",
    "    plt.imshow(images[i].squeeze(), cmap='gray_r')\n",
    "plt.show()"
   ]
  },
  {
   "cell_type": "markdown",
   "metadata": {},
   "source": [
    "## Define Dicriminator"
   ]
  },
  {
   "cell_type": "code",
   "execution_count": 71,
   "metadata": {},
   "outputs": [],
   "source": [
    "import torch.nn as nn\n",
    "import torch.nn.functional as F"
   ]
  },
  {
   "cell_type": "code",
   "execution_count": 72,
   "metadata": {},
   "outputs": [],
   "source": [
    "class Discriminator(nn.Module):\n",
    "    def __init__(self):\n",
    "        super(Discriminator, self).__init__()\n",
    "        \n",
    "        #in 1*28*28\n",
    "        self.conv1 = nn.Conv2d(1,64, 4, stride=2, padding=1)\n",
    "        #out 64*14*14\n",
    "        self.conv2 = nn.Conv2d(64,64, 4, stride=2, padding=1)\n",
    "        #out 64*7*7\n",
    "        self.output = nn.Linear(64*7*7,1) #linear layer\n",
    "        \n",
    "        self.dropout = nn.Dropout(0.4)                        #remember to use model.eval() in test time\n",
    "        \n",
    "    def forward(self,x):\n",
    "        out = F.leaky_relu(self.conv1(x), 0.2)\n",
    "        out = self.dropout(out)\n",
    "        out = F.leaky_relu(self.conv2(out), 0.2)\n",
    "        out = self.dropout(out)\n",
    "        #flatten\n",
    "        out = out.view(-1,64*7*7)\n",
    "        #fully connected\n",
    "        out = self.output(out)\n",
    "        \n",
    "        return out"
   ]
  },
  {
   "cell_type": "markdown",
   "metadata": {},
   "source": [
    "## Define Generator"
   ]
  },
  {
   "cell_type": "code",
   "execution_count": 73,
   "metadata": {},
   "outputs": [],
   "source": [
    "class Generator(nn.Module):\n",
    "    def __init__(self, latent_z):\n",
    "        super(Generator, self).__init__()\n",
    "        #define fully connected layer\n",
    "        self.fc = nn.Linear(latent_z, 7*7*128)\n",
    "        #define transpose convolutional layers\n",
    "        self.tconv1 = nn.ConvTranspose2d(128, 128, 4, stride=2, padding=1)\n",
    "        #out 128*14*14\n",
    "        self.tconv2 = nn.ConvTranspose2d(128, 128, 4, stride=2, padding=1)\n",
    "        #out 128*28*28\n",
    "        self.conv_output = nn.Conv2d(128, 1, 7, stride=1, padding=3)\n",
    "        #out 1*28*28\n",
    "        \n",
    "    def forward(self,x):\n",
    "        out = F.leaky_relu(self.fc(x), 0.2)\n",
    "        \n",
    "        #reshape into a 128*7*7 tensor\n",
    "        out = out.view(-1, 128,7,7)       #(batch_size, channels, H, W)\n",
    "        \n",
    "        out = F.leaky_relu(self.tconv1(out), 0.2)\n",
    "        out = F.leaky_relu(self.tconv2(out), 0.2)\n",
    "        out = F.sigmoid(self.conv_output(out))\n",
    "        \n",
    "        return out"
   ]
  },
  {
   "cell_type": "markdown",
   "metadata": {},
   "source": [
    "## Define Losses "
   ]
  },
  {
   "cell_type": "markdown",
   "metadata": {},
   "source": [
    "**GPU Training**"
   ]
  },
  {
   "cell_type": "code",
   "execution_count": 74,
   "metadata": {},
   "outputs": [],
   "source": [
    "#check wheteher to train on gpu\n",
    "train_on_gpu = torch.cuda.is_available()"
   ]
  },
  {
   "cell_type": "code",
   "execution_count": 78,
   "metadata": {},
   "outputs": [],
   "source": [
    "def real_loss(d_out):\n",
    "    batch_size = d_out.size(0)\n",
    "    \n",
    "    #generate lables\n",
    "    labels = torch.ones(batch_size)\n",
    "    \n",
    "    #move labels to gpu if available\n",
    "    if train_on_gpu:\n",
    "        labels = labels.cuda()\n",
    "        \n",
    "    criterion = nn.BCEWithLogitsLoss()\n",
    "    loss = criterion(d_out.squeeze(), labels)\n",
    "    return loss\n",
    "\n",
    "def fake_loss(d_out):\n",
    "    batch_size = d_out.size(0)\n",
    "    labels = torch.zeros(batch_size)\n",
    "    if train_on_gpu:\n",
    "        labels = labels.cuda()\n",
    "    criterion = nn.BCEWithLogitsLoss()\n",
    "    loss = criterion(d_out.squeeze(), labels)\n",
    "    return loss"
   ]
  },
  {
   "cell_type": "markdown",
   "metadata": {},
   "source": [
    "## Instantiate Models"
   ]
  },
  {
   "cell_type": "code",
   "execution_count": 79,
   "metadata": {},
   "outputs": [
    {
     "name": "stdout",
     "output_type": "stream",
     "text": [
      "Discriminator(\n",
      "  (conv1): Conv2d(1, 64, kernel_size=(4, 4), stride=(2, 2), padding=(1, 1))\n",
      "  (conv2): Conv2d(64, 64, kernel_size=(4, 4), stride=(2, 2), padding=(1, 1))\n",
      "  (output): Linear(in_features=3136, out_features=1, bias=True)\n",
      "  (dropout): Dropout(p=0.4, inplace=False)\n",
      ")\n",
      "\n",
      "Generator(\n",
      "  (fc): Linear(in_features=100, out_features=6272, bias=True)\n",
      "  (tconv1): ConvTranspose2d(128, 128, kernel_size=(4, 4), stride=(2, 2), padding=(1, 1))\n",
      "  (tconv2): ConvTranspose2d(128, 128, kernel_size=(4, 4), stride=(2, 2), padding=(1, 1))\n",
      "  (conv_output): Conv2d(128, 1, kernel_size=(7, 7), stride=(1, 1), padding=(3, 3))\n",
      ")\n"
     ]
    }
   ],
   "source": [
    "#hyperparameters\n",
    "latent_dim = 100\n",
    "\n",
    "D = Discriminator()\n",
    "G = Generator(latent_dim)\n",
    "\n",
    "if train_on_gpu:\n",
    "    D.cuda()\n",
    "    G.cuda()\n",
    "\n",
    "print(D)\n",
    "print()\n",
    "print(G)"
   ]
  },
  {
   "cell_type": "markdown",
   "metadata": {},
   "source": [
    "## Define Optimization Strategy"
   ]
  },
  {
   "cell_type": "code",
   "execution_count": 80,
   "metadata": {},
   "outputs": [],
   "source": [
    "import torch.optim as optim\n",
    "\n",
    "lr = 0.0002\n",
    "\n",
    "d_optimizer = optim.Adam(D.parameters(), lr, betas=(0.5, 0.999))\n",
    "g_optimizer = optim.Adam(G.parameters(), lr, betas=(0.5, 0.999))"
   ]
  },
  {
   "cell_type": "markdown",
   "metadata": {},
   "source": [
    "## Training "
   ]
  },
  {
   "cell_type": "code",
   "execution_count": 6,
   "metadata": {},
   "outputs": [],
   "source": [
    "#plotting function\n",
    "def plot(latent,epoch):\n",
    "    '''given latent points this fn will generate and plot images \n",
    "    '''\n",
    "    G.eval()\n",
    "    syn_images = G(latent)\n",
    "    for i in range(100):\n",
    "        plt.subplot(10,10,i+1)\n",
    "        plt.axis('off')\n",
    "        plt.imshow(syn_images[i].detach().cpu().squeeze(), cmap='gray_r')\n",
    "    plt.show()\n",
    "    filename = f'generated plot epoch {epoch}'\n",
    "    plt.savefig(filename)\n",
    "    plt.close()\n",
    "    G.train()"
   ]
  },
  {
   "cell_type": "code",
   "execution_count": 83,
   "metadata": {},
   "outputs": [],
   "source": [
    "import numpy as np\n",
    "\n",
    "#hyperparametrs \n",
    "epochs = 100\n",
    "show_every = 300\n",
    "\n",
    "losses = []\n",
    "samples = []\n",
    "\n",
    "#create a fized latent vectors for evaluating the model \n",
    "fixed_z = np.random.randn(100,100)\n",
    "fixed_z = torch.from_numpy(fixed_z).float()\n",
    "if train_on_gpu:\n",
    "    fixed_z = fixed_z.gpu()\n",
    "\n",
    "\n",
    "for e in range(epochs):\n",
    "    G.train()\n",
    "    \n",
    "    for i, (real_images, _) in enumerate(dataloader):\n",
    "        \n",
    "        batch_size = real_images.size(0)\n",
    "        \n",
    "        #move images to gpu if available\n",
    "        if train_on_gpu:\n",
    "            real_images = real_images.cuda()\n",
    "            \n",
    "            #train discriminator\n",
    "            d_optimizer.zero_grad()\n",
    "            # 1.On real data\n",
    "            d_r_out = D(real_images)\n",
    "            d_r_loss = real_loss(d_r_out)\n",
    "            \n",
    "            # 2.on fake data\n",
    "            latent = np.random.randn(batch_size, latent_dim)\n",
    "            latent = torch.from_numpy(latent).float()\n",
    "            if train_on_gpu:\n",
    "                latent = latent.cuda()\n",
    "            #generate fake images\n",
    "            fake_images = G(latent)\n",
    "            \n",
    "            d_f_out = D(fake_images)\n",
    "            d_f_loss = fake_loss(d_f_out)\n",
    "            \n",
    "            #add up losses \n",
    "            d_loss = d_r_loss + d_f_loss\n",
    "            \n",
    "            #backpropagete\n",
    "            d_loss.backward()\n",
    "            #optimize the discriminator\n",
    "            d_optimizer.step()\n",
    "            \n",
    "            \n",
    "            #train generator \n",
    "            g_optimizer.zero_grad()\n",
    "            \n",
    "            latent = np.random.randn(batch_size, latent_dim)\n",
    "            latent = torch.from_numpy(latent).float()\n",
    "            if train_on_gpu:\n",
    "                latent = latent.cuda()\n",
    "            fake_images = G(latent)\n",
    "            \n",
    "            g_f_out = D(fake_images)\n",
    "            g_loss = real_loss(g_f_out)\n",
    "            \n",
    "            g_loss.backward()\n",
    "            g_optimizer.step()\n",
    "            \n",
    "            \n",
    "            if i%show_every == 0:\n",
    "                print(f'Epoch: {e}\\t d_loss: {d_loss.item()}\\t g_loss: {g_loss.item()}')\n",
    "                losses.append((d_loss.item(), g_loss.item()))\n",
    "        \n",
    "        if e%5 ==0:\n",
    "            #plot fixed latent points per every 5 epochs\n",
    "            plot(fixed_z, e)"
   ]
  },
  {
   "cell_type": "code",
   "execution_count": null,
   "metadata": {},
   "outputs": [],
   "source": [
    "# torch.save(D.state_dict(), 'D.pth')\n",
    "# torch.save(G.state_dict(), 'G.pth')"
   ]
  },
  {
   "cell_type": "code",
   "execution_count": null,
   "metadata": {},
   "outputs": [],
   "source": [
    "# g_state_dict = torch.load('G.pth')"
   ]
  },
  {
   "cell_type": "code",
   "execution_count": null,
   "metadata": {},
   "outputs": [],
   "source": [
    "# G.load_state_dict(g_state_dict)"
   ]
  },
  {
   "cell_type": "code",
   "execution_count": null,
   "metadata": {},
   "outputs": [],
   "source": [
    "losses_array = np.array(losses)\n",
    "\n",
    "plt.plot(losses_array[:,0], label='d_loss')\n",
    "plt.plot(losses_array[:,1], label='g_loss')\n",
    "plt.legend()\n",
    "plt.show()"
   ]
  },
  {
   "cell_type": "code",
   "execution_count": null,
   "metadata": {},
   "outputs": [],
   "source": [
    "z = np.random.randn(100,100)\n",
    "z = torch.from_numpy(z).float()\n",
    "z = z.cuda()"
   ]
  },
  {
   "cell_type": "code",
   "execution_count": null,
   "metadata": {},
   "outputs": [],
   "source": [
    "G.eval()\n",
    "gen_images = G(z)"
   ]
  },
  {
   "cell_type": "code",
   "execution_count": null,
   "metadata": {},
   "outputs": [],
   "source": [
    "plt.imshow(G(z)[0].detach().cpu().squeeze())"
   ]
  },
  {
   "cell_type": "code",
   "execution_count": null,
   "metadata": {},
   "outputs": [],
   "source": [
    "plt.figure(figsize=(10,10))\n",
    "for i in range(100):\n",
    "    plt.subplot(10,10,i+1)\n",
    "    plt.axis('off')\n",
    "    plt.imshow(gen_images[i].detach().cpu().squeeze(), cmap='gray')"
   ]
  },
  {
   "cell_type": "code",
   "execution_count": null,
   "metadata": {},
   "outputs": [],
   "source": []
  }
 ],
 "metadata": {
  "kernelspec": {
   "display_name": "Python 3",
   "language": "python",
   "name": "python3"
  },
  "language_info": {
   "codemirror_mode": {
    "name": "ipython",
    "version": 3
   },
   "file_extension": ".py",
   "mimetype": "text/x-python",
   "name": "python",
   "nbconvert_exporter": "python",
   "pygments_lexer": "ipython3",
   "version": "3.7.7"
  }
 },
 "nbformat": 4,
 "nbformat_minor": 4
}
