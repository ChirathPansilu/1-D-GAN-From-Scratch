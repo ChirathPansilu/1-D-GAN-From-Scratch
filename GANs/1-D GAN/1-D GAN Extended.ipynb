{
 "cells": [
  {
   "cell_type": "markdown",
   "metadata": {},
   "source": [
    "#  Train a GAN On a One-Dimensional Function"
   ]
  },
  {
   "cell_type": "markdown",
   "metadata": {},
   "source": [
    "**With Extentions**"
   ]
  },
  {
   "cell_type": "code",
   "execution_count": 48,
   "metadata": {},
   "outputs": [],
   "source": [
    "#import libraries\n",
    "import torch\n",
    "import torch.nn as nn\n",
    "import torch.nn.functional as F\n",
    "import numpy as np \n",
    "import matplotlib.pyplot as plt\n",
    "import torch.optim as optim"
   ]
  },
  {
   "cell_type": "code",
   "execution_count": 49,
   "metadata": {},
   "outputs": [],
   "source": [
    "#define a function for sampling from real data distribution\n",
    "def generate_real_data(n):\n",
    "    x1 = np.random.uniform(-0.5,0.5,size=(n,1)) #from a uniform distribution\n",
    "    x2 = x1**2                   \n",
    "    return torch.from_numpy(np.hstack((x1, x2))).float()"
   ]
  },
  {
   "cell_type": "markdown",
   "metadata": {},
   "source": [
    "**Define Extented Functions for Scaling Data** "
   ]
  },
  {
   "cell_type": "code",
   "execution_count": 50,
   "metadata": {},
   "outputs": [],
   "source": [
    "#define a function to scale real data, so that we can use a tanh activation on generator output \n",
    "def scale_real_data(real_data):\n",
    "    #if we use a different range for real data we have to change scaling\n",
    "    real_data[:,0] *= 2\n",
    "    real_data[:,1] = real_data[:,1]*8 -1\n",
    "    \n",
    "    return real_data\n",
    "\n",
    "#define a recreate function for get data for plotting\n",
    "def recreate_data(array):\n",
    "    array[:,0] /= 2\n",
    "    array[:,1] = (array[:,1] + 1)/8\n",
    "    \n",
    "    return array"
   ]
  },
  {
   "cell_type": "code",
   "execution_count": 51,
   "metadata": {},
   "outputs": [],
   "source": [
    "#define discriminator model\n",
    "class Discriminator(nn.Module):\n",
    "    def __init__(self, input_dim):\n",
    "        super(Discriminator, self).__init__()\n",
    "        \n",
    "        self.fc1 = nn.Linear(input_dim, 16)\n",
    "        self.fc2 = nn.Linear(16, 16)\n",
    "        self.fc3 = nn.Linear(16, 2)\n",
    "        self.output = nn.Linear(2, 1)\n",
    "        \n",
    "    def forward(self,x):\n",
    "        #forward propagate through discriminator\n",
    "#         out = F.relu(self.fc1(x))\n",
    "        out = F.leaky_relu(self.fc1(x))\n",
    "        out = F.leaky_relu(self.fc2(out))\n",
    "        out = self.fc3(out)\n",
    "        out = self.output(out)\n",
    "        return out"
   ]
  },
  {
   "cell_type": "code",
   "execution_count": 52,
   "metadata": {},
   "outputs": [],
   "source": [
    "#define generator model \n",
    "class Generator(nn.Module):\n",
    "    def __init__(self, latent_dim, output_dim):\n",
    "        super(Generator, self).__init__()\n",
    "        \n",
    "        self.fc1 = nn.Linear(latent_dim, 16)\n",
    "        self.fc2 = nn.Linear(16, 16)\n",
    "        self.out = nn.Linear(16, output_dim)\n",
    "        \n",
    "    def forward(self,x):\n",
    "#         out = F.relu(self.fc1(x))\n",
    "        out = F.leaky_relu(self.fc1(x))\n",
    "        out = F.leaky_relu(self.fc2(out))\n",
    "        out = torch.tanh(self.out(out))\n",
    "        return out"
   ]
  },
  {
   "cell_type": "code",
   "execution_count": 53,
   "metadata": {},
   "outputs": [],
   "source": [
    "#define real loss\n",
    "def real_loss(d_out) :\n",
    "    batch_size = d_out.size(0)\n",
    "    #create labels for real data\n",
    "    labels = torch.ones(batch_size, 1)\n",
    "    criterion = nn.BCEWithLogitsLoss()\n",
    "    loss = criterion(d_out, labels)\n",
    "    return loss\n",
    "\n",
    "#define fake loss \n",
    "def fake_loss(d_out):\n",
    "    batch_size = d_out.size(0)\n",
    "    #create labels for fake data\n",
    "    labels = torch.zeros(batch_size, 1)\n",
    "    criterion = nn.BCEWithLogitsLoss()\n",
    "    loss = criterion(d_out, labels)\n",
    "    return loss"
   ]
  },
  {
   "cell_type": "code",
   "execution_count": 54,
   "metadata": {},
   "outputs": [
    {
     "data": {
      "text/plain": [
       "(Discriminator(\n",
       "   (fc1): Linear(in_features=2, out_features=16, bias=True)\n",
       "   (fc2): Linear(in_features=16, out_features=16, bias=True)\n",
       "   (fc3): Linear(in_features=16, out_features=2, bias=True)\n",
       "   (output): Linear(in_features=2, out_features=1, bias=True)\n",
       " ),\n",
       " Generator(\n",
       "   (fc1): Linear(in_features=5, out_features=16, bias=True)\n",
       "   (fc2): Linear(in_features=16, out_features=16, bias=True)\n",
       "   (out): Linear(in_features=16, out_features=2, bias=True)\n",
       " ))"
      ]
     },
     "execution_count": 54,
     "metadata": {},
     "output_type": "execute_result"
    }
   ],
   "source": [
    "#set hyperparametrs\n",
    "latent_dim = 5\n",
    "lr = 0.001\n",
    "\n",
    "\n",
    "#instantiate Generator and Descriminator\n",
    "D = Discriminator(2) \n",
    "G = Generator(latent_dim,2)\n",
    "\n",
    "#define optimizers for discriminator and generator\n",
    "d_optimizer = optim.Adam(D.parameters(), lr, betas=(0.5,0.999))\n",
    "g_optimizer = optim.Adam(G.parameters(), lr, betas=(0.5,0.999))\n",
    "\n",
    "D.train(),G.train()"
   ]
  },
  {
   "cell_type": "code",
   "execution_count": 55,
   "metadata": {},
   "outputs": [],
   "source": [
    "#define a function for evaluate the GAN performance subjectively by examinig plots\n",
    "def summarize_performance(samples, epoch, real_list=None, synthetic_list=None, save_fig=False):\n",
    "    #sample from real data distribution for visualization\n",
    "    real_data = generate_real_data(samples)    \n",
    "    \n",
    "    #sample from latent space for pass into generate\n",
    "    latent = np.random.normal(0,1,size=(samples, latent_dim))\n",
    "    latent = torch.from_numpy(latent).float()\n",
    "    \n",
    "    #generate synthetic samples\n",
    "    synthetic_data = G(latent)\n",
    "    \n",
    "    #################################################\n",
    "    ## reacreate SYNTHETIC DATA\n",
    "    synthetic_data = recreate_data(synthetic_data)\n",
    "    ################################################   \n",
    "    \n",
    "    #saving real and generated data in case for visulizations\n",
    "    if not real_list==None and not synthetic_list==None:\n",
    "        real_list.append(real_data)\n",
    "        synthetic_list.append(synthetic_data)\n",
    "    \n",
    "    #plot these 2 samples in scatter plots\n",
    "    plt.scatter(real_data[:,0].detach(), real_data[:,1].detach(), color='blue', label='Real Distribution')\n",
    "    plt.scatter(synthetic_data[:,0].detach(), synthetic_data[:,1].detach(), color='red', label='Generated Distribution')\n",
    "    plt.legend()\n",
    "    \n",
    "    #saving plot\n",
    "    if save_fig:\n",
    "        filename = 'generated_plot{}'.format(epoch)\n",
    "        plt.savefig(filename)\n",
    "    \n",
    "    plt.show()\n",
    "    plt.close()"
   ]
  },
  {
   "cell_type": "code",
   "execution_count": null,
   "metadata": {},
   "outputs": [],
   "source": [
    "%matplotlib inline\n",
    "\n",
    "#set parameters related to training\n",
    "epochs = 10000\n",
    "batch_size = 128\n",
    "show_every = 2000\n",
    "\n",
    "gen_losses = []\n",
    "dis_losses = []\n",
    "\n",
    "\n",
    "r_list = []\n",
    "s_list = []\n",
    "\n",
    "#implement training loop\n",
    "for i in range(1 ,epochs+1):\n",
    "    \n",
    "    #=========================================\n",
    "    #        Train Discriminator\n",
    "    #=========================================\n",
    "    \n",
    "    d_optimizer.zero_grad()\n",
    "    #get a batch from real distribution\n",
    "    real_data  = generate_real_data(batch_size)\n",
    "\n",
    "    ##########################################\n",
    "    # SCALE REAL DATA\n",
    "    real_data = scale_real_data(real_data)\n",
    "    ##########################################\n",
    "\n",
    "    #calculate loss on real samples\n",
    "    real_output = D(real_data)\n",
    "    d_r_loss = real_loss(real_output)\n",
    "\n",
    "    #generate latent samples from a standard normal\n",
    "    latent = np.random.normal(0,1,size=(batch_size, latent_dim))\n",
    "    latent = torch.from_numpy(latent).float()\n",
    "    fake_data = G(latent)\n",
    "\n",
    "    fake_output = D(fake_data)\n",
    "    d_f_loss = fake_loss(fake_output)\n",
    "\n",
    "    #accumilate losses\n",
    "    d_loss = d_r_loss + d_f_loss\n",
    "\n",
    "    dis_losses.append(d_loss)\n",
    "\n",
    "    d_loss.backward()\n",
    "    d_optimizer.step()\n",
    "\n",
    "    #===========================================\n",
    "    #         Train Generator\n",
    "    #===========================================\n",
    "    g_optimizer.zero_grad()\n",
    "\n",
    "    #generate latent samples for generator\n",
    "    latent = np.random.normal(0,1, size=(batch_size, latent_dim))\n",
    "    latent = torch.from_numpy(latent).float()\n",
    "    fake_data = G(latent)\n",
    "\n",
    "    fake_output = D(fake_data)\n",
    "    g_loss = real_loss(fake_output)\n",
    "\n",
    "    gen_losses.append(g_loss)\n",
    "\n",
    "    g_loss.backward()\n",
    "    g_optimizer.step()\n",
    "\n",
    "    if i%show_every == 0:\n",
    "       print(f'Epoch: {i} | d_loss: {d_loss} | g_loss: {g_loss}')\n",
    "       summarize_performance(100, i, r_list, s_list)\n",
    "    \n",
    "plt.plot(gen_losses, label='g_loss')\n",
    "plt.plot(dis_losses, label='d_loss')\n",
    "plt.title('Discriminator Loss and Generator Loss')\n",
    "plt.legend()\n",
    "plt.show()"
   ]
  }
 ],
 "metadata": {
  "kernelspec": {
   "display_name": "Python 3",
   "language": "python",
   "name": "python3"
  },
  "language_info": {
   "codemirror_mode": {
    "name": "ipython",
    "version": 3
   },
   "file_extension": ".py",
   "mimetype": "text/x-python",
   "name": "python",
   "nbconvert_exporter": "python",
   "pygments_lexer": "ipython3",
   "version": "3.7.7"
  }
 },
 "nbformat": 4,
 "nbformat_minor": 4
}
